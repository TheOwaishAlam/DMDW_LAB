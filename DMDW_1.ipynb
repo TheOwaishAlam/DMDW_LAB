{
  "nbformat": 4,
  "nbformat_minor": 0,
  "metadata": {
    "colab": {
      "name": "DMDW_1.ipynb",
      "provenance": [],
      "collapsed_sections": [],
      "history_visible": true,
      "authorship_tag": "ABX9TyMHPgQ3cCK58lSjjFKXUtoI",
      "include_colab_link": true
    },
    "kernelspec": {
      "name": "python3",
      "display_name": "Python 3"
    },
    "language_info": {
      "name": "python"
    }
  },
  "cells": [
    {
      "cell_type": "markdown",
      "metadata": {
        "id": "view-in-github",
        "colab_type": "text"
      },
      "source": [
        "<a href=\"https://colab.research.google.com/github/owaishalam/DMDW_LAB/blob/main/DMDW_1.ipynb\" target=\"_parent\"><img src=\"https://colab.research.google.com/assets/colab-badge.svg\" alt=\"Open In Colab\"/></a>"
      ]
    },
    {
      "cell_type": "code",
      "metadata": {
        "colab": {
          "base_uri": "https://localhost:8080/"
        },
        "id": "78j70uHrz7G1",
        "outputId": "daea82b2-430a-4e94-d16c-6c90c0681ba4"
      },
      "source": [
        "L=[1, 2, 3, 4]\n",
        "print(L)\n",
        "L1=['A', 'B', 'C']\n",
        "print(L1)\n",
        "for x in L:\n",
        "  print(x)\n",
        "L[1]=5\n",
        "L.sort()\n",
        "print(L)\n"
      ],
      "execution_count": null,
      "outputs": [
        {
          "output_type": "stream",
          "name": "stdout",
          "text": [
            "[1, 2, 3, 4]\n",
            "['A', 'B', 'C']\n",
            "1\n",
            "2\n",
            "3\n",
            "4\n",
            "[1, 3, 4, 5]\n"
          ]
        }
      ]
    },
    {
      "cell_type": "markdown",
      "metadata": {
        "id": "7tKgj5VkqkDX"
      },
      "source": [
        "1. Create a list in python . Next find mean and median of the list without using any builtin library functions"
      ]
    },
    {
      "cell_type": "code",
      "metadata": {
        "id": "7MyMFGok96r4",
        "colab": {
          "base_uri": "https://localhost:8080/"
        },
        "outputId": "e8a327cc-7007-41be-e5d4-3201aff53fbd"
      },
      "source": [
        "lst = [12,35,18,9,56,24]\n",
        "n = len(lst)\n",
        "s = sum(lst)\n",
        "mean = s/n\n",
        "print(\"Mean is: \",mean)\n",
        "lst.sort()\n",
        "if n%2 == 0:\n",
        "    mid1 = lst[n//2]\n",
        "    mid2 = lst[n//2-1]\n",
        "    meadian = (mid1+mid2)//2\n",
        "else:\n",
        "    median = lst[n//2]\n",
        "print(meadian)"
      ],
      "execution_count": 1,
      "outputs": [
        {
          "output_type": "stream",
          "name": "stdout",
          "text": [
            "Mean is:  25.666666666666668\n",
            "21\n"
          ]
        }
      ]
    },
    {
      "cell_type": "markdown",
      "metadata": {
        "id": "xDreHQBQq1we"
      },
      "source": [
        "2. Create list inj python. Next find the mode of the list without using any builtin library function"
      ]
    },
    {
      "cell_type": "code",
      "metadata": {
        "colab": {
          "base_uri": "https://localhost:8080/"
        },
        "id": "iuHmWetnqvbm",
        "outputId": "36d59088-88ac-49e2-a833-f6e380287efc"
      },
      "source": [
        "list1=[2,3,1,1,6,2,1,5]\n",
        "list1.sort()\n",
        "list2 = []\n",
        "res = []\n",
        "for i in list1:\n",
        "    list2.append(list1.count(i))\n",
        "dic = dict(zip(list1,list2))\n",
        "for k,v in dic.items():\n",
        "    if v == max(list2):\n",
        "        res.append(k)\n",
        "print(\"Mode is: \",res)"
      ],
      "execution_count": 3,
      "outputs": [
        {
          "output_type": "stream",
          "name": "stdout",
          "text": [
            "Mode is:  [1]\n"
          ]
        }
      ]
    },
    {
      "cell_type": "markdown",
      "metadata": {
        "id": "C1EBQdi_q8sO"
      },
      "source": [
        "3. Create a list in python. Next find the second smallest number and second highest number in the list"
      ]
    },
    {
      "cell_type": "code",
      "metadata": {
        "colab": {
          "base_uri": "https://localhost:8080/"
        },
        "id": "4U8HI8t0q4w4",
        "outputId": "1bdd796d-055a-4316-ee14-71ad89e3c399"
      },
      "source": [
        "lst = [12,35,18,9,56,24]\n",
        "lst.sort()\n",
        "print(\"Second Smallest: \",lst[1])\n",
        "print(\"Second Highest: \",lst[-2])"
      ],
      "execution_count": 4,
      "outputs": [
        {
          "output_type": "stream",
          "name": "stdout",
          "text": [
            "Second Smallest:  12\n",
            "Second Highest:  35\n"
          ]
        }
      ]
    }
  ]
}